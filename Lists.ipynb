{
 "cells": [
  {
   "cell_type": "code",
   "execution_count": 21,
   "metadata": {},
   "outputs": [
    {
     "name": "stdout",
     "output_type": "stream",
     "text": [
      "[1, 2, 3, 4, 5, 6, 7, 8, 9, 10]\n",
      "[3, 4, 5, 6, 7, 8, 9, 10, 11, 12]\n",
      "[1, 2, 3, 4, 5, 6, 7, 8, 9, 10]\n",
      "[1, 8, 27, 64, 125, 216, 343, 512, 729, 1000]\n",
      "[0.3333333333333333, 0.6666666666666666, 1.0, 1.3333333333333333, 1.6666666666666667, 2.0, 2.3333333333333335, 2.6666666666666665, 3.0, 3.3333333333333335]\n"
     ]
    }
   ],
   "source": [
    "basicList = [1, 2, 3, 4, 5, 6, 7, 8, 9, 10]\n",
    "print(basicList)\n",
    "\n",
    "for index, number in enumerate(basicList):\n",
    "    basicList[index] = basicList[index]+2\n",
    "    \n",
    "print(basicList)\n",
    "    \n",
    "List = []\n",
    "for number in range(10):\n",
    "    List.append(number+1)\n",
    "    \n",
    "print(List)\n",
    "\n",
    "squareList = []\n",
    "for number in range(10):\n",
    "    squareList.append((number+1)**3)\n",
    "    \n",
    "print(squareList)\n",
    "\n",
    "divisibleList = []\n",
    "for number in range(10):\n",
    "    divisibleList.append((number+1)/3)\n",
    "    \n",
    "print(divisibleList)\n",
    "\n"
   ]
  }
 ],
 "metadata": {
  "kernelspec": {
   "display_name": "Python 3",
   "language": "python",
   "name": "python3"
  },
  "language_info": {
   "codemirror_mode": {
    "name": "ipython",
    "version": 3
   },
   "file_extension": ".py",
   "mimetype": "text/x-python",
   "name": "python",
   "nbconvert_exporter": "python",
   "pygments_lexer": "ipython3",
   "version": "3.7.3"
  }
 },
 "nbformat": 4,
 "nbformat_minor": 2
}
