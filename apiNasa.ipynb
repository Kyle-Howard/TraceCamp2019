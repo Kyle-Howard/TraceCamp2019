{
 "cells": [
  {
   "cell_type": "code",
   "execution_count": 97,
   "metadata": {},
   "outputs": [],
   "source": [
    "import requests\n",
    "from IPython import display\n",
    "import random\n",
    "from datetime import datetime, timedelta\n",
    "import time\n",
    "\n",
    "api_key = \"jEhYg5Ihabbsfy0S8AZFkDdl8WZFUrlvhA8Dmii9\"\n",
    "yearMin = 2016\n",
    "yearMax = 2018\n",
    "\n",
    "start = datetime(yearMin, 1, 1, 00, 00, 00)\n",
    "years = yearMax - yearMin + 1\n",
    "stop = start + timedelta(days = 365 * years)\n",
    "num = input('How many pictures do you want to see? (as an integer) ')\n",
    "try:\n",
    "    num = int(num)\n",
    "except ValueError:\n",
    "    print('Please enter in an integer value (i.e. 1, 2, 3, 4...)')\n",
    "display.clear_output()\n",
    "\n",
    "for i in range(num):\n",
    "    random_date = start + (stop - start) * random.random()\n",
    "    day = random_date.date().isoformat()\n",
    "    url = f'https://api.nasa.gov/planetary/apod?api_key={api_key}&date={day}'\n",
    "    response = requests.get(url)\n",
    "    image_url = response.json()['url']\n",
    "    display.display(display.Image(image_url))\n",
    "    time.sleep(2)\n",
    "    display.clear_output()\n",
    "\n",
    "    \n"
   ]
  },
  {
   "cell_type": "code",
   "execution_count": null,
   "metadata": {},
   "outputs": [],
   "source": []
  },
  {
   "cell_type": "code",
   "execution_count": null,
   "metadata": {},
   "outputs": [],
   "source": []
  },
  {
   "cell_type": "code",
   "execution_count": null,
   "metadata": {},
   "outputs": [],
   "source": []
  }
 ],
 "metadata": {
  "kernelspec": {
   "display_name": "Python 3",
   "language": "python",
   "name": "python3"
  },
  "language_info": {
   "codemirror_mode": {
    "name": "ipython",
    "version": 3
   },
   "file_extension": ".py",
   "mimetype": "text/x-python",
   "name": "python",
   "nbconvert_exporter": "python",
   "pygments_lexer": "ipython3",
   "version": "3.7.3"
  }
 },
 "nbformat": 4,
 "nbformat_minor": 2
}
